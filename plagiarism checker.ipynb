{
 "cells": [
  {
   "cell_type": "code",
   "execution_count": 1,
   "id": "00592809",
   "metadata": {},
   "outputs": [
    {
     "name": "stdout",
     "output_type": "stream",
     "text": [
      "The documents are not very similar. Likely not plagiarized.\n"
     ]
    }
   ],
   "source": [
    "from sklearn.feature_extraction.text import CountVectorizer\n",
    "from sklearn.metrics.pairwise import cosine_similarity\n",
    "\n",
    "def calculate_cosine_similarity(text1, text2):\n",
    "    vectorizer = CountVectorizer().fit_transform([text1, text2])\n",
    "    vectors = vectorizer.toarray()\n",
    "    similarity = cosine_similarity(vectors)\n",
    "    return similarity[0, 1]\n",
    "\n",
    "def plagiarism_checker(text1, text2, threshold=0.8):\n",
    "    similarity = calculate_cosine_similarity(text1, text2)\n",
    "    if similarity >= threshold:\n",
    "        return True\n",
    "    else:\n",
    "        return False\n",
    "\n",
    "if __name__ == \"__main__\":\n",
    "    # Example usage\n",
    "    document1 = \"This is an example document for testing.\"\n",
    "    document2 = \"This is a sample document for testing.\"\n",
    "\n",
    "    is_plagiarized = plagiarism_checker(document1, document2)\n",
    "\n",
    "    if is_plagiarized:\n",
    "        print(\"The documents are similar. Possible plagiarism detected.\")\n",
    "    else:\n",
    "        print(\"The documents are not very similar. Likely not plagiarized.\")\n"
   ]
  },
  {
   "cell_type": "code",
   "execution_count": 4,
   "id": "3e59331c",
   "metadata": {},
   "outputs": [
    {
     "name": "stdout",
     "output_type": "stream",
     "text": [
      "Jaccard Similarity: 0.56\n",
      "Plagiarism Detected!\n"
     ]
    }
   ],
   "source": [
    "import re\n",
    "\n",
    "def preprocess_text(text):\n",
    "    # Remove non-alphanumeric characters and convert to lowercase\n",
    "    text = re.sub(r'[^a-zA-Z0-9\\s]', '', text)\n",
    "    return text.lower()\n",
    "\n",
    "def calculate_jaccard_similarity(text1, text2):\n",
    "    # Tokenize and preprocess text\n",
    "    words1 = set(preprocess_text(text1).split())\n",
    "    words2 = set(preprocess_text(text2).split())\n",
    "\n",
    "    # Calculate Jaccard similarity\n",
    "    intersection = len(words1.intersection(words2))\n",
    "    union = len(words1.union(words2))\n",
    "    \n",
    "    if union == 0:\n",
    "        return 0  # Avoid division by zero\n",
    "    else:\n",
    "        return intersection / union\n",
    "\n",
    "def plagiarism_detector(text1, text2, threshold=0.5):\n",
    "    similarity = calculate_jaccard_similarity(text1, text2)\n",
    "\n",
    "    print(f\"Jaccard Similarity: {similarity:.2f}\")\n",
    "\n",
    "    if similarity >= threshold:\n",
    "        print(\"Plagiarism Detected!\")\n",
    "    else:\n",
    "        print(\"No Plagiarism Detected.\")\n",
    "\n",
    "if __name__ == \"__main__\":\n",
    "    # Example usage\n",
    "    document1 = \"This is an example document for testing.\"\n",
    "    document2 = \"This is a sample document for testing.\"\n",
    "\n",
    "    plagiarism_detector(document1, document2)\n"
   ]
  },
  {
   "cell_type": "code",
   "execution_count": 5,
   "id": "febabae9",
   "metadata": {},
   "outputs": [],
   "source": [
    "import numpy as np\n",
    "import glob \n",
    "import os"
   ]
  },
  {
   "cell_type": "code",
   "execution_count": 28,
   "id": "a5aaa8ec",
   "metadata": {},
   "outputs": [
    {
     "name": "stdout",
     "output_type": "stream",
     "text": [
      "entre 1 for comparing folder with masterfile\n",
      "entre 2 to check for plagiarism in two files\n",
      " entre 3 to check for plagiarism in all files in folder\n",
      "1\n"
     ]
    }
   ],
   "source": [
    "def levenshtein (seq1,seq2):\n",
    "    size_x= len (seq1)+1\n",
    "    size_y=len(seq2)+1\n",
    "    matrix = np.zeros((size_x,size_y))\n",
    "    for x in range (size_x):\n",
    "        matrix [x,0]=x\n",
    "        for y in range (size_y):\n",
    "            matrix[0,y]=y\n",
    "            for x in range (1,size_x):\n",
    "                for y in range (1,size_y):\n",
    "                    if seq1[x-1]==seq2[y-1]:\n",
    "                        matrix [x,y]=min(\n",
    "                        matrix[x-1,y]+1,\n",
    "                        matrix[x-1,y-1],\n",
    "                        matrix[x,y-1]+1\n",
    "                        )\n",
    "    else:\n",
    "         matrix [x,y] = min(\n",
    "         matrix[x-1,y]+1,\n",
    "         matrix[x-1,y-1],\n",
    "         matrix[x,y-1]+1\n",
    "     )\n",
    "    return (matrix[size_x - 1, size_y - 1])\n",
    "\n",
    "# one for entire folder with masterfile , one for two separate files , one for all files within the folder\n",
    "choice = int (input(\"entre 1 for comparing folder with masterfile\\nentre 2 to check for plagiarism in two files\\n entre 3 to check for plagiarism in all files in folder\\n\"))\n",
    "k=0 # to count the number of plagiarism files\n",
    "        "
   ]
  },
  {
   "cell_type": "code",
   "execution_count": 27,
   "id": "54978475",
   "metadata": {},
   "outputs": [
    {
     "name": "stdout",
     "output_type": "stream",
     "text": [
      "entre the percentage of plagiriasm allowed\n",
      " 1\n",
      "intre the path of the folder to scan:\n",
      "34\n"
     ]
    },
    {
     "ename": "NameError",
     "evalue": "name 'os' is not defined",
     "output_type": "error",
     "traceback": [
      "\u001b[1;31m---------------------------------------------------------------------------\u001b[0m",
      "\u001b[1;31mNameError\u001b[0m                                 Traceback (most recent call last)",
      "Cell \u001b[1;32mIn[27], line 3\u001b[0m\n\u001b[0;32m      1\u001b[0m plag \u001b[38;5;241m=\u001b[39m \u001b[38;5;28mint\u001b[39m (\u001b[38;5;28minput\u001b[39m(\u001b[38;5;124m\"\u001b[39m\u001b[38;5;124mentre the percentage of plagiriasm allowed\u001b[39m\u001b[38;5;130;01m\\n\u001b[39;00m\u001b[38;5;124m \u001b[39m\u001b[38;5;124m\"\u001b[39m))\n\u001b[0;32m      2\u001b[0m path1 \u001b[38;5;241m=\u001b[39m \u001b[38;5;28minput\u001b[39m(\u001b[38;5;124m\"\u001b[39m\u001b[38;5;124mintre the path of the folder to scan:\u001b[39m\u001b[38;5;130;01m\\n\u001b[39;00m\u001b[38;5;124m\"\u001b[39m)\n\u001b[1;32m----> 3\u001b[0m os\u001b[38;5;241m.\u001b[39mchdir(path1)\n\u001b[0;32m      4\u001b[0m myfiles \u001b[38;5;241m=\u001b[39m glob\u001b[38;5;241m.\u001b[39mblob(\u001b[38;5;124m'\u001b[39m\u001b[38;5;124m*.txt\u001b[39m\u001b[38;5;124m'\u001b[39m)\n\u001b[0;32m      5\u001b[0m \u001b[38;5;28mprint\u001b[39m (\u001b[38;5;124m\"\u001b[39m\u001b[38;5;130;01m\\n\u001b[39;00m\u001b[38;5;124m the text files available are :\u001b[39m\u001b[38;5;130;01m\\n\u001b[39;00m\u001b[38;5;124m\"\u001b[39m)\n",
      "\u001b[1;31mNameError\u001b[0m: name 'os' is not defined"
     ]
    }
   ],
   "source": [
    "\n",
    "        plag = int (input(\"entre the percentage of plagiriasm allowed\\n \"))\n",
    "        path1 = input(\"intre the path of the folder to scan:\\n\")\n",
    "        os.chdir(path1)\n",
    "        myfiles = glob.blob('*.txt')\n",
    "        print (\"\\n the text files available are :\\n\")\n",
    "        print(myfiles)\n",
    "        \n",
    "        path = input(\"\\n entre the masterfile path:\\n \")\n",
    "        with open (path,'r')as file:\n",
    "            data = file.read().replace ('\\n','')\n",
    "            str1=data.replace('','')\n",
    "            \n",
    "            print(\"\\n plagiarised files are :\")\n",
    "            for i in range (0,len(myfiles)):\n",
    "                with open(myfiles[i],'r')as file:\n",
    "                    data = file.read().replace('\\n','')\n",
    "                    str2=data.replace('','')\n",
    "                    if(len(str1)>len(str2)):\n",
    "                        length=len(str1)\n",
    "                    else: \n",
    "                            length=len(str1)\n",
    "                            n= 100-round((levenshtein(str1,str2)/length*100,2 ))\n",
    "                            if(n>plag):\n",
    "                                print(path,\"and\",myfiles[i],n,\"%plagiarised\")\n",
    "                                k=k+1"
   ]
  },
  {
   "cell_type": "code",
   "execution_count": 29,
   "id": "1bddcef0",
   "metadata": {},
   "outputs": [
    {
     "name": "stdout",
     "output_type": "stream",
     "text": [
      "entre the percentage of plagiriasm allowed\n",
      " 46\n",
      "entre the path of the folder to scan:\n",
      "45\n",
      "entre the path of the folder to scan:\n",
      "45\n"
     ]
    },
    {
     "ename": "NameError",
     "evalue": "name 'os' is not defined",
     "output_type": "error",
     "traceback": [
      "\u001b[1;31m---------------------------------------------------------------------------\u001b[0m",
      "\u001b[1;31mNameError\u001b[0m                                 Traceback (most recent call last)",
      "Cell \u001b[1;32mIn[29], line 4\u001b[0m\n\u001b[0;32m      2\u001b[0m path2 \u001b[38;5;241m=\u001b[39m \u001b[38;5;28minput\u001b[39m(\u001b[38;5;124m\"\u001b[39m\u001b[38;5;124mentre the path of the folder to scan:\u001b[39m\u001b[38;5;130;01m\\n\u001b[39;00m\u001b[38;5;124m\"\u001b[39m)\n\u001b[0;32m      3\u001b[0m path3 \u001b[38;5;241m=\u001b[39m \u001b[38;5;28minput\u001b[39m(\u001b[38;5;124m\"\u001b[39m\u001b[38;5;124mentre the path of the folder to scan:\u001b[39m\u001b[38;5;130;01m\\n\u001b[39;00m\u001b[38;5;124m\"\u001b[39m)\n\u001b[1;32m----> 4\u001b[0m os\u001b[38;5;241m.\u001b[39mchdir(path1)\n\u001b[0;32m      5\u001b[0m myfiles \u001b[38;5;241m=\u001b[39m glob\u001b[38;5;241m.\u001b[39mblob(\u001b[38;5;124m'\u001b[39m\u001b[38;5;124m*.txt\u001b[39m\u001b[38;5;124m'\u001b[39m)\n\u001b[0;32m      6\u001b[0m \u001b[38;5;28mprint\u001b[39m (\u001b[38;5;124m\"\u001b[39m\u001b[38;5;130;01m\\n\u001b[39;00m\u001b[38;5;124m the text files available are :\u001b[39m\u001b[38;5;130;01m\\n\u001b[39;00m\u001b[38;5;124m\"\u001b[39m)\n",
      "\u001b[1;31mNameError\u001b[0m: name 'os' is not defined"
     ]
    }
   ],
   "source": [
    " plag = int (input(\"entre the percentage of plagiriasm allowed\\n \"))\n",
    "path2 = input(\"entre the path of the folder to scan:\\n\")\n",
    "path3 = input(\"entre the path of the folder to scan:\\n\")\n",
    " os.chdir(path1)\n",
    "myfiles = glob.blob('*.txt')\n",
    "print (\"\\n the text files available are :\\n\")\n",
    "print(myfiles)\n",
    "        \n",
    "path = input(\"\\n entre the masterfile path:\\n \")\n",
    "with open (path,'r')as file:\n",
    "            data = file.read().replace ('\\n','')\n",
    "            str1=data.replace('','')"
   ]
  },
  {
   "cell_type": "code",
   "execution_count": 30,
   "id": "01d16ea1",
   "metadata": {},
   "outputs": [
    {
     "ename": "IndentationError",
     "evalue": "expected an indented block after 'for' statement on line 9 (3214127594.py, line 10)",
     "output_type": "error",
     "traceback": [
      "\u001b[1;36m  Cell \u001b[1;32mIn[30], line 10\u001b[1;36m\u001b[0m\n\u001b[1;33m    with open (myfiles[i],'r')as file:\u001b[0m\n\u001b[1;37m                                      ^\u001b[0m\n\u001b[1;31mIndentationError\u001b[0m\u001b[1;31m:\u001b[0m expected an indented block after 'for' statement on line 9\n"
     ]
    }
   ],
   "source": [
    " plag = int (input(\"entre the percentage of plagiriasm allowed\\n \"))\n",
    "path1 = input(\"intre the path of the folder to scan:\\n\")\n",
    "os.chdir(path1)\n",
    "myfiles = glob.blob('*.txt')\n",
    "print (\"\\n the text files available are :\\n\")\n",
    "print(myfiles)\n",
    "print(\"\\n\")\n",
    " for i in range (0,len(myfiles)):\n",
    "    for j in range (i,len(myfiles)):\n",
    "with open (myfiles[i],'r')as file:\n",
    "            data = file.read().replace ('\\n','')\n",
    "            str1=data.replace('','')\n",
    "with open (myfiles[j],'r')as file:\n",
    "            data = file.read().replace ('\\n','')\n",
    "            str1=data.replace('','')\n"
   ]
  },
  {
   "cell_type": "code",
   "execution_count": null,
   "id": "bfdb9a8d",
   "metadata": {},
   "outputs": [],
   "source": [
    "(len(str1)>len(str2 )):\n",
    "length=len(str1)\n",
    "    else:\n",
    "        length=len(str2)\n",
    "        if(myfiles[i] !=myfiles[j]):"
   ]
  },
  {
   "cell_type": "code",
   "execution_count": null,
   "id": "cdde0bf4",
   "metadata": {},
   "outputs": [],
   "source": [
    "n= 100-round((levenshtein(str1,str2)/length*100,2 ))\n",
    "                            if(n>plag):\n",
    "                                print(path,\"and\",myfiles[i],n,\"%plagiarised\")\n",
    "                                k=k+1"
   ]
  }
 ],
 "metadata": {
  "kernelspec": {
   "display_name": "Python 3 (ipykernel)",
   "language": "python",
   "name": "python3"
  },
  "language_info": {
   "codemirror_mode": {
    "name": "ipython",
    "version": 3
   },
   "file_extension": ".py",
   "mimetype": "text/x-python",
   "name": "python",
   "nbconvert_exporter": "python",
   "pygments_lexer": "ipython3",
   "version": "3.11.4"
  }
 },
 "nbformat": 4,
 "nbformat_minor": 5
}
